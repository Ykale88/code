{
 "cells": [
  {
   "cell_type": "code",
   "execution_count": null,
   "id": "02451413",
   "metadata": {},
   "outputs": [],
   "source": [
    "from flask_sqlalchemy import SQLAlchemy\n",
    " \n",
    "db = SQLAlchemy()\n",
    " \n",
    "class EmployeeModel(db.Model):\n",
    "    __tablename__ = \"table\"\n",
    " \n",
    "    id = db.Column(db.Integer, primary_key=True)\n",
    "    employee_id = db.Column(db.Integer(),unique = True)\n",
    "    name = db.Column(db.String())\n",
    "    age = db.Column(db.Integer())\n",
    "    position = db.Column(db.String(80))\n",
    " \n",
    "    def __init__(self, employee_id,name,age,position):\n",
    "        self.employee_id = employee_id\n",
    "        self.name = name\n",
    "        self.age = age\n",
    "        self.position = position\n",
    " \n",
    "    def __repr__(self):\n",
    "        return f\"{self.name}:{self.employee_id}\""
   ]
  },
  {
   "cell_type": "code",
   "execution_count": null,
   "id": "87c64481",
   "metadata": {},
   "outputs": [],
   "source": [
    "from flask import Flask\n",
    " \n",
    "app = Flask(__name__)\n",
    " \n",
    "app.run(host='localhost', port=5000)\n",
    "\n",
    "from flask import Flask\n",
    " \n",
    "app = Flask(__name__)\n",
    "app.config['SQLALCHEMY_DATABASE_URI'] = 'sqlite:///<db_name>.db'\n",
    "app.config['SQLALCHEMY_TRACK_MODIFICATIONS'] = False\n",
    " \n",
    "app.run(host='localhost', port=5000)"
   ]
  },
  {
   "cell_type": "code",
   "execution_count": null,
   "id": "0b78c02f",
   "metadata": {},
   "outputs": [],
   "source": [
    "from flask import Flask\n",
    " \n",
    "app =Flask(__name__)\n",
    "app.config['SQLALCHEMY_DATABASE_URI'] = 'sqlite:///<db_name>.db'\n",
    "app.config['SQLALCHEMY_TRACK_MODIFICATIONS'] = False\n",
    "db.init_app(app)\n",
    " \n",
    "@app.before_first_request\n",
    "def create_table():\n",
    "    db.create_all()\n",
    " \n",
    "app.run(host='localhost', port=5000)"
   ]
  },
  {
   "cell_type": "code",
   "execution_count": null,
   "id": "e0d787a6",
   "metadata": {},
   "outputs": [],
   "source": [
    "@app.route('/data/create' , methods = ['GET','POST'])\n",
    "def create():\n",
    "    if request.method == 'GET':\n",
    "        return render_template('createpage.html')\n",
    " \n",
    "    if request.method == 'POST':\n",
    "        employee_id = request.form['employee_id']\n",
    "        name = request.form['name']\n",
    "        age = request.form['age']\n",
    "        position = request.form['position']\n",
    "        employee = EmployeeModel(employee_id=employee_id, name=name, age=age, position = position)\n",
    "        db.session.add(employee)\n",
    "        db.session.commit()\n",
    "        return redirect('/data')"
   ]
  },
  {
   "cell_type": "code",
   "execution_count": null,
   "id": "b64d4c68",
   "metadata": {},
   "outputs": [],
   "source": [
    "@app.route('/data')\n",
    "def RetrieveDataList():\n",
    "    employees = EmployeeModel.query.all()\n",
    "    return render_template('datalist.html',employees = employees)\n"
   ]
  },
  {
   "cell_type": "markdown",
   "id": "3366099f",
   "metadata": {},
   "source": [
    "# 2"
   ]
  },
  {
   "cell_type": "code",
   "execution_count": null,
   "id": "12b34af0",
   "metadata": {},
   "outputs": [],
   "source": [
    "@app.route('/data/<int:id>')\n",
    "def RetrieveSingleEmployee(id):\n",
    "    employee = EmployeeModel.query.filter_by(employee_id=id).first()\n",
    "    if employee:\n",
    "        return render_template('data.html', employee = employee)\n",
    "    return f\"Employee with id ={id} Doenst exist\""
   ]
  },
  {
   "cell_type": "code",
   "execution_count": null,
   "id": "3e4f1cab",
   "metadata": {},
   "outputs": [],
   "source": [
    "@app.route('/data/<int:id>/update',methods = ['GET','POST'])\n",
    "def update(id):\n",
    "    employee = EmployeeModel.query.filter_by(employee_id=id).first()\n",
    "    if request.method == 'POST':\n",
    "        if employee:\n",
    "            db.session.delete(employee)\n",
    "            db.session.commit()\n",
    " \n",
    "            name = request.form['name']\n",
    "            age = request.form['age']\n",
    "            position = request.form['position']\n",
    "            employee = EmployeeModel(employee_id=id, name=name, age=age, position = position)\n",
    " \n",
    "            db.session.add(employee)\n",
    "            db.session.commit()\n",
    "            return redirect(f'/data/{id}')\n",
    "        return f\"Employee with id = {id} Does not exist\"\n",
    " \n",
    "    return render_template('update.html', employee = employee)"
   ]
  },
  {
   "cell_type": "code",
   "execution_count": null,
   "id": "092e17a0",
   "metadata": {},
   "outputs": [],
   "source": []
  },
  {
   "cell_type": "code",
   "execution_count": null,
   "id": "ec71d1f9",
   "metadata": {},
   "outputs": [],
   "source": [
    "@app.route('/data/<int:id>/delete', methods=['GET','POST'])\n",
    "def delete(id):\n",
    "    employee = EmployeeModel.query.filter_by(employee_id=id).first()\n",
    "    if request.method == 'POST':\n",
    "        if employee:\n",
    "            db.session.delete(employee)\n",
    "            db.session.commit()\n",
    "            return redirect('/data')\n",
    "        abort(404)\n",
    " \n",
    "    return render_template('delete.html')"
   ]
  },
  {
   "cell_type": "code",
   "execution_count": 4,
   "id": "80c1c567",
   "metadata": {},
   "outputs": [],
   "source": [
    "from flask_sqlalchemy import SQLAlchemy\n",
    " \n",
    "db =SQLAlchemy()\n",
    " \n",
    "class EmployeeModel(db.Model):\n",
    "    __tablename__ = \"table\"\n",
    " \n",
    "    id = db.Column(db.Integer, primary_key=True)\n",
    "    employee_id = db.Column(db.Integer(),unique = True)\n",
    "    name = db.Column(db.String())\n",
    "    age = db.Column(db.Integer())\n",
    "    position = db.Column(db.String(80))\n",
    " \n",
    "    def __init__(self, employee_id,name,age,position):\n",
    "        self.employee_id = employee_id\n",
    "        self.name = name\n",
    "        self.age = age\n",
    "        self.position = position\n",
    " \n",
    "    def __repr__(self):\n",
    "        return f\"{self.name}:{self.employee_id}\""
   ]
  },
  {
   "cell_type": "code",
   "execution_count": null,
   "id": "8a57be93",
   "metadata": {},
   "outputs": [],
   "source": [
    "\n",
    "\n",
    "\n",
    " \n",
    " \n",
    "\n"
   ]
  },
  {
   "cell_type": "code",
   "execution_count": null,
   "id": "9f8a4755",
   "metadata": {},
   "outputs": [],
   "source": []
  }
 ],
 "metadata": {
  "kernelspec": {
   "display_name": "Python 3 (ipykernel)",
   "language": "python",
   "name": "python3"
  },
  "language_info": {
   "codemirror_mode": {
    "name": "ipython",
    "version": 3
   },
   "file_extension": ".py",
   "mimetype": "text/x-python",
   "name": "python",
   "nbconvert_exporter": "python",
   "pygments_lexer": "ipython3",
   "version": "3.8.10"
  }
 },
 "nbformat": 4,
 "nbformat_minor": 5
}
